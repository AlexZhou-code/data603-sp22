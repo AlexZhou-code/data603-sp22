{
 "cells": [
  {
   "cell_type": "code",
   "execution_count": 1,
   "metadata": {
    "id": "UdY-CWvCXEmQ"
   },
   "outputs": [
    {
     "name": "stderr",
     "output_type": "stream",
     "text": [
      "WARNING: An illegal reflective access operation has occurred\n",
      "WARNING: Illegal reflective access by org.apache.spark.unsafe.Platform (file:/Users/jiezhou/opt/anaconda3/lib/python3.9/site-packages/pyspark/jars/spark-unsafe_2.12-3.2.1.jar) to constructor java.nio.DirectByteBuffer(long,int)\n",
      "WARNING: Please consider reporting this to the maintainers of org.apache.spark.unsafe.Platform\n",
      "WARNING: Use --illegal-access=warn to enable warnings of further illegal reflective access operations\n",
      "WARNING: All illegal access operations will be denied in a future release\n",
      "Using Spark's default log4j profile: org/apache/spark/log4j-defaults.properties\n",
      "Setting default log level to \"WARN\".\n",
      "To adjust logging level use sc.setLogLevel(newLevel). For SparkR, use setLogLevel(newLevel).\n",
      "22/05/12 18:05:58 WARN NativeCodeLoader: Unable to load native-hadoop library for your platform... using builtin-java classes where applicable\n"
     ]
    }
   ],
   "source": [
    "from pyspark.sql import SparkSession\n",
    "import seaborn as sns\n",
    "import matplotlib.pyplot as plt\n",
    "from pyspark.sql import SparkSession\n",
    "from pyspark.ml import Pipeline\n",
    "from pyspark.ml.classification import DecisionTreeClassifier\n",
    "from pyspark.ml.feature import StringIndexer, VectorIndexer\n",
    "from pyspark.ml.evaluation import MulticlassClassificationEvaluator\n",
    "from pyspark.ml.feature import RFormula\n",
    "from pyspark.ml.tuning import CrossValidator, ParamGridBuilder\n",
    "from pyspark.mllib.evaluation import BinaryClassificationMetrics\n",
    "\n",
    "spark = SparkSession.builder.master('local')\\\n",
    ".appName(\"Alex_603_proj\")\\\n",
    ".getOrCreate()"
   ]
  },
  {
   "cell_type": "code",
   "execution_count": 2,
   "metadata": {
    "id": "zyDaR2-_gjbI"
   },
   "outputs": [],
   "source": [
    "df  = spark.read.option(\"header\", \"true\").csv('host_train.csv')"
   ]
  },
  {
   "cell_type": "code",
   "execution_count": 3,
   "metadata": {
    "colab": {
     "base_uri": "https://localhost:8080/"
    },
    "id": "-Wy2E0bLhSi5",
    "outputId": "de9c373b-6730-4188-e4b9-5e808688d09a"
   },
   "outputs": [
    {
     "name": "stdout",
     "output_type": "stream",
     "text": [
      "root\n",
      " |-- case_id: string (nullable = true)\n",
      " |-- Hospital: string (nullable = true)\n",
      " |-- Hospital_type: string (nullable = true)\n",
      " |-- Hospital_city: string (nullable = true)\n",
      " |-- Hospital_region: string (nullable = true)\n",
      " |-- Available_Extra_Rooms_in_Hospital: string (nullable = true)\n",
      " |-- Department: string (nullable = true)\n",
      " |-- Ward_Type: string (nullable = true)\n",
      " |-- Ward_Facility: string (nullable = true)\n",
      " |-- Bed_Grade: string (nullable = true)\n",
      " |-- patientid: string (nullable = true)\n",
      " |-- City_Code_Patient: string (nullable = true)\n",
      " |-- Type of Admission: string (nullable = true)\n",
      " |-- Illness_Severity: string (nullable = true)\n",
      " |-- Patient_Visitors: string (nullable = true)\n",
      " |-- Age: string (nullable = true)\n",
      " |-- Admission_Deposit: string (nullable = true)\n",
      " |-- Stay_Days: string (nullable = true)\n",
      "\n"
     ]
    }
   ],
   "source": [
    "df.printSchema()"
   ]
  },
  {
   "cell_type": "code",
   "execution_count": 4,
   "metadata": {
    "colab": {
     "base_uri": "https://localhost:8080/"
    },
    "id": "I8Pv9OcshUnw",
    "outputId": "6cbbde88-2daa-490f-9a53-3df765109f3b"
   },
   "outputs": [
    {
     "name": "stdout",
     "output_type": "stream",
     "text": [
      "Counts of rows/samples: 318438\n",
      "Counts of columns/features: 18\n"
     ]
    }
   ],
   "source": [
    "print(f\"Counts of rows/samples: {df.count()}\")\n",
    "print(f\"Counts of columns/features: {len(df.columns)}\")"
   ]
  },
  {
   "cell_type": "code",
   "execution_count": 5,
   "metadata": {
    "colab": {
     "base_uri": "https://localhost:8080/"
    },
    "id": "u9Ejddl0hYVC",
    "outputId": "684341dc-6c09-4b14-a391-d8ad22cc891e"
   },
   "outputs": [
    {
     "name": "stdout",
     "output_type": "stream",
     "text": [
      "+-------+--------+-------------+-------------+---------------+---------------------------------+------------+---------+-------------+---------+---------+-----------------+-----------------+----------------+----------------+-----+-----------------+---------+\n",
      "|case_id|Hospital|Hospital_type|Hospital_city|Hospital_region|Available_Extra_Rooms_in_Hospital|  Department|Ward_Type|Ward_Facility|Bed_Grade|patientid|City_Code_Patient|Type of Admission|Illness_Severity|Patient_Visitors|  Age|Admission_Deposit|Stay_Days|\n",
      "+-------+--------+-------------+-------------+---------------+---------------------------------+------------+---------+-------------+---------+---------+-----------------+-----------------+----------------+----------------+-----+-----------------+---------+\n",
      "|      1|       8|            2|            3|              2|                                3|radiotherapy|        R|            F|      2.0|    31397|              7.0|        Emergency|         Extreme|               2|51-60|           4911.0|     0-10|\n",
      "|      2|       2|            2|            5|              2|                                2|radiotherapy|        S|            F|      2.0|    31397|              7.0|           Trauma|         Extreme|               2|51-60|           5954.0|    41-50|\n",
      "|      3|      10|            4|            1|              0|                                2|  anesthesia|        S|            E|      2.0|    31397|              7.0|           Trauma|         Extreme|               2|51-60|           4745.0|    31-40|\n",
      "|      4|      26|            1|            2|              1|                                2|radiotherapy|        R|            D|      2.0|    31397|              7.0|           Trauma|         Extreme|               2|51-60|           7272.0|    41-50|\n",
      "|      5|      26|            1|            2|              1|                                2|radiotherapy|        S|            D|      2.0|    31397|              7.0|           Trauma|         Extreme|               2|51-60|           5558.0|    41-50|\n",
      "+-------+--------+-------------+-------------+---------------+---------------------------------+------------+---------+-------------+---------+---------+-----------------+-----------------+----------------+----------------+-----+-----------------+---------+\n",
      "only showing top 5 rows\n",
      "\n"
     ]
    }
   ],
   "source": [
    "df.show(5)"
   ]
  },
  {
   "cell_type": "code",
   "execution_count": 6,
   "metadata": {
    "colab": {
     "base_uri": "https://localhost:8080/"
    },
    "id": "MOwgFU9siyPk",
    "outputId": "20759bdd-f591-4ddf-9590-186869311dcb"
   },
   "outputs": [
    {
     "name": "stdout",
     "output_type": "stream",
     "text": [
      "root\n",
      " |-- case_id: string (nullable = true)\n",
      " |-- hospital: string (nullable = true)\n",
      " |-- hospital_type: string (nullable = true)\n",
      " |-- hospital_city: string (nullable = true)\n",
      " |-- hospital_region: string (nullable = true)\n",
      " |-- available_extra_rooms_in_hospital: string (nullable = true)\n",
      " |-- department: string (nullable = true)\n",
      " |-- ward_type: string (nullable = true)\n",
      " |-- ward_facility: string (nullable = true)\n",
      " |-- bed_grade: string (nullable = true)\n",
      " |-- patient_id: string (nullable = true)\n",
      " |-- city_code_patient: string (nullable = true)\n",
      " |-- type_of_admission: string (nullable = true)\n",
      " |-- illness_severity: string (nullable = true)\n",
      " |-- patient_visitors: string (nullable = true)\n",
      " |-- age: string (nullable = true)\n",
      " |-- admission_deposit: string (nullable = true)\n",
      " |-- stay_days: string (nullable = true)\n",
      "\n"
     ]
    }
   ],
   "source": [
    "df2 = df.withColumnRenamed(\"Type of Admission\", \"Type_of_Admission\")\\\n",
    "      .withColumnRenamed(\"patientid\", \"Patient_id\")\n",
    "\n",
    "\n",
    "df3 = df2.toDF(*[c.lower() for c in df2.columns])\n",
    "df3.printSchema()\n",
    "\n"
   ]
  },
  {
   "cell_type": "code",
   "execution_count": 7,
   "metadata": {
    "colab": {
     "base_uri": "https://localhost:8080/"
    },
    "id": "0G74Qd7YbUxm",
    "outputId": "4b54ef38-a939-4b1b-de90-e9fab0423a39"
   },
   "outputs": [
    {
     "name": "stdout",
     "output_type": "stream",
     "text": [
      "root\n",
      " |-- case_id: string (nullable = true)\n",
      " |-- hospital: integer (nullable = true)\n",
      " |-- hospital_type: integer (nullable = true)\n",
      " |-- hospital_city: integer (nullable = true)\n",
      " |-- hospital_region: integer (nullable = true)\n",
      " |-- available_extra_rooms_in_hospital: integer (nullable = true)\n",
      " |-- department: string (nullable = true)\n",
      " |-- ward_type: string (nullable = true)\n",
      " |-- ward_facility: string (nullable = true)\n",
      " |-- bed_grade: integer (nullable = true)\n",
      " |-- patient_id: string (nullable = true)\n",
      " |-- city_code_patient: integer (nullable = true)\n",
      " |-- type_of_admission: string (nullable = true)\n",
      " |-- illness_severity: string (nullable = true)\n",
      " |-- patient_visitors: integer (nullable = true)\n",
      " |-- age: string (nullable = true)\n",
      " |-- admission_deposit: integer (nullable = true)\n",
      " |-- stay_days: string (nullable = true)\n",
      "\n"
     ]
    }
   ],
   "source": [
    "from pyspark.sql.types import IntegerType\n",
    "import pyspark.sql.functions as F\n",
    "\n",
    "string_to_integer_list = ['hospital', 'hospital_type', 'hospital_city','hospital_region','available_extra_rooms_in_hospital',\n",
    "                          'bed_grade','city_code_patient','patient_visitors','admission_deposit']\n",
    "df4 = df3\n",
    "for col in string_to_integer_list:\n",
    "  df4 = df4.withColumn(col, F.col(col).astype(IntegerType()))\n",
    "\n",
    "df4.printSchema()"
   ]
  },
  {
   "cell_type": "code",
   "execution_count": 8,
   "metadata": {
    "colab": {
     "base_uri": "https://localhost:8080/"
    },
    "id": "Lt0NDOnNrNwi",
    "outputId": "6cc75f31-c147-480f-faa4-b4fae600a8c8"
   },
   "outputs": [
    {
     "name": "stderr",
     "output_type": "stream",
     "text": [
      "                                                                                \r"
     ]
    },
    {
     "name": "stdout",
     "output_type": "stream",
     "text": [
      "root\n",
      " |-- case_id: string (nullable = true)\n",
      " |-- hospital: integer (nullable = true)\n",
      " |-- hospital_type: integer (nullable = true)\n",
      " |-- hospital_city: integer (nullable = true)\n",
      " |-- hospital_region: integer (nullable = true)\n",
      " |-- available_extra_rooms_in_hospital: integer (nullable = true)\n",
      " |-- department: string (nullable = true)\n",
      " |-- ward_type: string (nullable = true)\n",
      " |-- ward_facility: string (nullable = true)\n",
      " |-- bed_grade: integer (nullable = true)\n",
      " |-- patient_id: string (nullable = true)\n",
      " |-- city_code_patient: integer (nullable = true)\n",
      " |-- type_of_admission: string (nullable = true)\n",
      " |-- illness_severity: string (nullable = true)\n",
      " |-- patient_visitors: integer (nullable = true)\n",
      " |-- age: string (nullable = true)\n",
      " |-- admission_deposit: integer (nullable = true)\n",
      " |-- stay_days: string (nullable = true)\n",
      " |-- department_index: double (nullable = false)\n",
      " |-- ward_facility_index: double (nullable = false)\n",
      " |-- ward_type_index: double (nullable = false)\n",
      " |-- illness_severity_index: double (nullable = false)\n",
      " |-- type_of_admission_index: double (nullable = false)\n",
      "\n"
     ]
    }
   ],
   "source": [
    "from pyspark.ml.feature import StringIndexer\n",
    "import pyspark.sql.functions as F\n",
    "\n",
    "string_to_integer_list = ['department','ward_facility', 'ward_type','illness_severity','type_of_admission']\n",
    "\n",
    "def custom_stringindex(df, col):\n",
    "  output = col + \"_index\"\n",
    "  indexer = StringIndexer(inputCol=col, outputCol=output)\n",
    "  indexed = indexer.fit(df).transform(df)\n",
    "  \n",
    "  return indexed\n",
    "\n",
    "\n",
    "df5 = df4\n",
    "for col in string_to_integer_list:\n",
    "  df5 = custom_stringindex(df5, col)\n",
    " \n",
    "df5.printSchema()"
   ]
  },
  {
   "cell_type": "code",
   "execution_count": 9,
   "metadata": {
    "colab": {
     "base_uri": "https://localhost:8080/"
    },
    "id": "aQ7JlE7ivwer",
    "outputId": "703fb3c8-0174-4e63-c0d1-5d0bc3c5a48d"
   },
   "outputs": [
    {
     "name": "stdout",
     "output_type": "stream",
     "text": [
      "+------------------+-----+\n",
      "|         stay_days|count|\n",
      "+------------------+-----+\n",
      "|             21-30|87491|\n",
      "|             11-20|78139|\n",
      "|             31-40|55159|\n",
      "|             51-60|35018|\n",
      "|              0-10|23604|\n",
      "|             41-50|11743|\n",
      "|             71-80|10254|\n",
      "|More than 100 Days| 6683|\n",
      "|             81-90| 4838|\n",
      "|            91-100| 2765|\n",
      "|             61-70| 2744|\n",
      "+------------------+-----+\n",
      "\n",
      "+----------------+------+\n",
      "|illness_severity| count|\n",
      "+----------------+------+\n",
      "|        Moderate|175843|\n",
      "|           Minor| 85872|\n",
      "|         Extreme| 56723|\n",
      "+----------------+------+\n",
      "\n",
      "+------------------+------+\n",
      "|        department| count|\n",
      "+------------------+------+\n",
      "|        gynecology|249486|\n",
      "|        anesthesia| 29649|\n",
      "|      radiotherapy| 28516|\n",
      "|TB & Chest disease|  9586|\n",
      "|           surgery|  1201|\n",
      "+------------------+------+\n",
      "\n",
      "+------+-----+\n",
      "|   age|count|\n",
      "+------+-----+\n",
      "| 41-50|63749|\n",
      "| 31-40|63639|\n",
      "| 51-60|48514|\n",
      "| 21-30|40843|\n",
      "| 71-80|35792|\n",
      "| 61-70|33687|\n",
      "| 11-20|16768|\n",
      "| 81-90| 7890|\n",
      "|  0-10| 6254|\n",
      "|91-100| 1302|\n",
      "+------+-----+\n",
      "\n"
     ]
    }
   ],
   "source": [
    "from pyspark.sql.functions import col\n",
    "\n",
    "df5.groupBy(\"stay_days\") \\\n",
    "    .count() \\\n",
    "    .orderBy(col(\"count\").desc()) \\\n",
    "    .show()\n",
    "\n",
    "df5.groupBy(\"illness_severity\") \\\n",
    "    .count() \\\n",
    "    .orderBy(col(\"count\").desc()) \\\n",
    "    .show()\n",
    "\n",
    "df5.groupBy(\"department\") \\\n",
    "    .count() \\\n",
    "    .orderBy(col(\"count\").desc()) \\\n",
    "    .show()\n",
    "\n",
    "df5.groupBy(\"age\") \\\n",
    "    .count() \\\n",
    "    .orderBy(col(\"count\").desc()) \\\n",
    "    .show()"
   ]
  },
  {
   "cell_type": "code",
   "execution_count": 10,
   "metadata": {
    "id": "Mc8ILw9WvsV3"
   },
   "outputs": [],
   "source": [
    "input_variable = ['hospital', 'hospital_type', 'hospital_city','hospital_region','available_extra_rooms_in_hospital',\n",
    "                  'bed_grade','city_code_patient','patient_visitors','admission_deposit',\n",
    "                  'department_index', 'ward_facility_index', 'ward_type_index', 'illness_severity_index',\n",
    "                  'type_of_admission_index']\n",
    "\n",
    "label = ['stay_days_index']\n",
    "                    "
   ]
  },
  {
   "cell_type": "code",
   "execution_count": 11,
   "metadata": {
    "colab": {
     "base_uri": "https://localhost:8080/"
    },
    "id": "L1sr-4CLw2vp",
    "outputId": "c6648dd3-c5e6-4786-d995-84f090a30edc"
   },
   "outputs": [
    {
     "name": "stderr",
     "output_type": "stream",
     "text": [
      "                                                                                \r"
     ]
    },
    {
     "name": "stdout",
     "output_type": "stream",
     "text": [
      "Training Dataset Count: 255085\n"
     ]
    },
    {
     "name": "stderr",
     "output_type": "stream",
     "text": [
      "\r",
      "[Stage 35:>                                                         (0 + 1) / 1]\r"
     ]
    },
    {
     "name": "stdout",
     "output_type": "stream",
     "text": [
      "Test Dataset Count: 63353\n"
     ]
    },
    {
     "name": "stderr",
     "output_type": "stream",
     "text": [
      "\r",
      "                                                                                \r"
     ]
    }
   ],
   "source": [
    "\n",
    "(trainingData, testData) = df5.randomSplit([0.8, 0.2], seed = 123456)\n",
    "print(\"Training Dataset Count: \" + str(trainingData.count()))\n",
    "print(\"Test Dataset Count: \" + str(testData.count()))"
   ]
  },
  {
   "cell_type": "code",
   "execution_count": 12,
   "metadata": {
    "id": "K583PfvSyruy"
   },
   "outputs": [],
   "source": [
    "from pyspark.ml.feature import VectorAssembler\n",
    "\n",
    "assembler = VectorAssembler(\n",
    "    inputCols=input_variable,\n",
    "    outputCol=\"features\",\n",
    "    handleInvalid =\"skip\")\n",
    "\n",
    "df6 = assembler.transform(df5)\n",
    "\n",
    "\n"
   ]
  },
  {
   "cell_type": "code",
   "execution_count": 13,
   "metadata": {
    "id": "KuKC7RPT-JX8"
   },
   "outputs": [],
   "source": [
    "from pyspark.ml.feature import PCA\n",
    "\n",
    "pca =PCA(k=10, inputCol=\"features\", outputCol=\"pcaFeatures\") \n"
   ]
  },
  {
   "cell_type": "code",
   "execution_count": 14,
   "metadata": {
    "id": "E2Mo5hVHBL9f"
   },
   "outputs": [],
   "source": [
    "from pyspark.ml.feature import StandardScaler\n",
    "\n",
    "scaler = StandardScaler(inputCol=\"pcaFeatures\", outputCol=\"scaledFeatures\",\n",
    "                        withStd=True, withMean=False)"
   ]
  },
  {
   "cell_type": "code",
   "execution_count": 15,
   "metadata": {
    "id": "jTLOM-FstJpw"
   },
   "outputs": [
    {
     "name": "stderr",
     "output_type": "stream",
     "text": [
      "                                                                                \r"
     ]
    }
   ],
   "source": [
    "from pyspark.ml.feature import IndexToString\n",
    "from sklearn import  tree\n",
    "from pyspark.ml.classification import DecisionTreeClassifier\n",
    "from pyspark.ml import Pipeline\n",
    "\n",
    "labelIndexer = StringIndexer(inputCol=\"stay_days\", outputCol=\"stay_days_index\").fit(df6)\n",
    "\n",
    "dt = DecisionTreeClassifier(labelCol=\"stay_days_index\", featuresCol=\"scaledFeatures\")\n",
    "\n",
    "\n",
    "labelConverter = IndexToString(inputCol=\"prediction\", outputCol=\"predictedLabel\", labels=labelIndexer.labels)\n"
   ]
  },
  {
   "cell_type": "code",
   "execution_count": 16,
   "metadata": {},
   "outputs": [],
   "source": [
    "evaluator = MulticlassClassificationEvaluator(\n",
    "    labelCol=\"stay_days_index\", predictionCol=\"prediction\", metricName=\"accuracy\")"
   ]
  },
  {
   "cell_type": "code",
   "execution_count": 17,
   "metadata": {
    "id": "7c4yBar7imYv"
   },
   "outputs": [],
   "source": [
    "\n",
    "pipeline = Pipeline(stages=[labelIndexer, assembler, pca, scaler, dt, labelConverter])\n"
   ]
  },
  {
   "cell_type": "code",
   "execution_count": 18,
   "metadata": {},
   "outputs": [],
   "source": [
    "grid = ParamGridBuilder().addGrid(dt.impurity, [\"gini\"]).addGrid(dt.maxBins, [24,32]).addGrid(dt.minInfoGain, [0.0,0.2]).addGrid(dt.maxDepth, [5,10]).build()"
   ]
  },
  {
   "cell_type": "code",
   "execution_count": 19,
   "metadata": {
    "id": "kE8ZHRnyiv1D"
   },
   "outputs": [],
   "source": [
    "#model = pipeline.fit(trainingData)"
   ]
  },
  {
   "cell_type": "code",
   "execution_count": 20,
   "metadata": {},
   "outputs": [],
   "source": [
    "cv= CrossValidator(estimator=pipeline, estimatorParamMaps=grid,evaluator=evaluator,numFolds=10)"
   ]
  },
  {
   "cell_type": "code",
   "execution_count": 21,
   "metadata": {},
   "outputs": [
    {
     "name": "stderr",
     "output_type": "stream",
     "text": [
      "22/05/12 18:06:19 WARN InstanceBuilder$NativeBLAS: Failed to load implementation from:dev.ludovic.netlib.blas.JNIBLAS\n",
      "22/05/12 18:06:19 WARN InstanceBuilder$NativeBLAS: Failed to load implementation from:dev.ludovic.netlib.blas.ForeignLinkerBLAS\n",
      "22/05/12 18:06:20 WARN LAPACK: Failed to load implementation from: com.github.fommil.netlib.NativeSystemLAPACK\n",
      "22/05/12 18:06:20 WARN LAPACK: Failed to load implementation from: com.github.fommil.netlib.NativeRefLAPACK\n",
      "22/05/12 18:06:20 WARN package: Truncated the string representation of a plan since it was too large. This behavior can be adjusted by setting 'spark.sql.debug.maxToStringFields'.\n",
      "                                                                                \r"
     ]
    }
   ],
   "source": [
    "cvModel = cv.fit(trainingData)"
   ]
  },
  {
   "cell_type": "code",
   "execution_count": 22,
   "metadata": {
    "colab": {
     "base_uri": "https://localhost:8080/"
    },
    "id": "umXM4ZmG7GgI",
    "outputId": "8f81ea1c-a43f-4277-f37e-c7486ba0932d",
    "scrolled": true
   },
   "outputs": [
    {
     "name": "stdout",
     "output_type": "stream",
     "text": [
      "root\n",
      " |-- case_id: string (nullable = true)\n",
      " |-- hospital: integer (nullable = true)\n",
      " |-- hospital_type: integer (nullable = true)\n",
      " |-- hospital_city: integer (nullable = true)\n",
      " |-- hospital_region: integer (nullable = true)\n",
      " |-- available_extra_rooms_in_hospital: integer (nullable = true)\n",
      " |-- department: string (nullable = true)\n",
      " |-- ward_type: string (nullable = true)\n",
      " |-- ward_facility: string (nullable = true)\n",
      " |-- bed_grade: integer (nullable = true)\n",
      " |-- patient_id: string (nullable = true)\n",
      " |-- city_code_patient: integer (nullable = true)\n",
      " |-- type_of_admission: string (nullable = true)\n",
      " |-- illness_severity: string (nullable = true)\n",
      " |-- patient_visitors: integer (nullable = true)\n",
      " |-- age: string (nullable = true)\n",
      " |-- admission_deposit: integer (nullable = true)\n",
      " |-- stay_days: string (nullable = true)\n",
      " |-- department_index: double (nullable = false)\n",
      " |-- ward_facility_index: double (nullable = false)\n",
      " |-- ward_type_index: double (nullable = false)\n",
      " |-- illness_severity_index: double (nullable = false)\n",
      " |-- type_of_admission_index: double (nullable = false)\n",
      " |-- stay_days_index: double (nullable = false)\n",
      " |-- features: vector (nullable = true)\n",
      " |-- pcaFeatures: vector (nullable = true)\n",
      " |-- scaledFeatures: vector (nullable = true)\n",
      " |-- rawPrediction: vector (nullable = true)\n",
      " |-- probability: vector (nullable = true)\n",
      " |-- prediction: double (nullable = false)\n",
      " |-- predictedLabel: string (nullable = true)\n",
      "\n"
     ]
    }
   ],
   "source": [
    "predictions_df = cvModel.transform(testData)\n",
    "\n",
    "predictions_df.printSchema()"
   ]
  },
  {
   "cell_type": "code",
   "execution_count": 23,
   "metadata": {
    "colab": {
     "base_uri": "https://localhost:8080/"
    },
    "id": "mIcDR0yo7ZBO",
    "outputId": "c4f07137-e6ad-4f57-e135-1e9a07c87195",
    "scrolled": false
   },
   "outputs": [
    {
     "name": "stderr",
     "output_type": "stream",
     "text": [
      "\r",
      "[Stage 209:>                                                        (0 + 1) / 1]\r"
     ]
    },
    {
     "name": "stdout",
     "output_type": "stream",
     "text": [
      "+-------+----------------+-----------------+------------+---------+--------------+\n",
      "|case_id|illness_severity|type_of_admission|  department|stay_days|predictedLabel|\n",
      "+-------+----------------+-----------------+------------+---------+--------------+\n",
      "|      1|         Extreme|        Emergency|radiotherapy|     0-10|         21-30|\n",
      "|  10001|           Minor|           Trauma|  gynecology|    11-20|         21-30|\n",
      "| 100011|           Minor|           Trauma|  gynecology|    21-30|         21-30|\n",
      "| 100013|           Minor|           Trauma|  gynecology|    31-40|         51-60|\n",
      "| 100014|           Minor|           Urgent|  gynecology|    81-90|         51-60|\n",
      "| 100018|        Moderate|        Emergency|  gynecology|    41-50|         51-60|\n",
      "|  10002|           Minor|           Trauma|  gynecology|    21-30|         11-20|\n",
      "| 100022|        Moderate|           Trauma|  gynecology|    11-20|         21-30|\n",
      "| 100029|        Moderate|           Trauma|  gynecology|    21-30|         21-30|\n",
      "|  10003|           Minor|           Trauma|  gynecology|    21-30|         21-30|\n",
      "| 100031|        Moderate|        Emergency|  gynecology|     0-10|         11-20|\n",
      "| 100033|         Extreme|           Trauma|  gynecology|    51-60|         21-30|\n",
      "| 100034|         Extreme|           Trauma|  gynecology|   91-100|         51-60|\n",
      "| 100038|         Extreme|           Trauma|  gynecology|    41-50|         21-30|\n",
      "| 100040|        Moderate|           Trauma|  gynecology|    21-30|         21-30|\n",
      "| 100045|         Extreme|           Trauma|  gynecology|    11-20|         21-30|\n",
      "| 100047|         Extreme|           Trauma|  anesthesia|    51-60|         51-60|\n",
      "| 100049|        Moderate|           Trauma|radiotherapy|    11-20|         21-30|\n",
      "| 100052|        Moderate|           Trauma|  gynecology|    21-30|         21-30|\n",
      "| 100054|        Moderate|           Trauma|  gynecology|    21-30|         11-20|\n",
      "+-------+----------------+-----------------+------------+---------+--------------+\n",
      "only showing top 20 rows\n",
      "\n"
     ]
    },
    {
     "name": "stderr",
     "output_type": "stream",
     "text": [
      "\r",
      "                                                                                \r"
     ]
    }
   ],
   "source": [
    "\n",
    "predictions_df.select(\"case_id\", \"illness_severity\",\"type_of_admission\",  \"department\",\"stay_days\",\"predictedLabel\" ).show(20)"
   ]
  },
  {
   "cell_type": "code",
   "execution_count": 24,
   "metadata": {
    "id": "P_hLDrQiLD3B"
   },
   "outputs": [],
   "source": [
    "from pyspark.ml.evaluation import MulticlassClassificationEvaluator\n",
    "from pyspark.mllib.evaluation import MulticlassMetrics\n",
    "\n",
    "# Select (prediction, true label) and compute the accuracy and test error\n",
    "def customMulticlassClassificationEvaluator(modelname, predictions):\n",
    "  evaluator = MulticlassClassificationEvaluator(\n",
    "      labelCol=\"stay_days_index\", predictionCol=\"prediction\", metricName=\"accuracy\")\n",
    "  accuracy = evaluator.evaluate(predictions)\n",
    "\n",
    "  evaluator2 = MulticlassClassificationEvaluator(\n",
    "      labelCol=\"stay_days_index\", predictionCol=\"prediction\", metricName=\"weightedRecall\")\n",
    "  weightedRecall = evaluator2.evaluate(predictions)\n",
    "\n",
    "  evaluator3 = MulticlassClassificationEvaluator(\n",
    "      labelCol=\"stay_days_index\", predictionCol=\"prediction\", metricName=\"weightedPrecision\")\n",
    "  weightedPrecision = evaluator3.evaluate(predictions)\n",
    "\n",
    "  evaluator4 = MulticlassClassificationEvaluator(\n",
    "      labelCol=\"stay_days_index\", predictionCol=\"prediction\", metricName=\"weightedTruePositiveRate\")\n",
    "  weightedTruePositiveRate = evaluator4.evaluate(predictions)\n",
    "\n",
    "  evaluator5 = MulticlassClassificationEvaluator(\n",
    "      labelCol=\"stay_days_index\", predictionCol=\"prediction\", metricName=\"truePositiveRateByLabel\")\n",
    "  truePositiveRateByLabel = evaluator5.evaluate(predictions)\n",
    "\n",
    "  evaluator6 = MulticlassClassificationEvaluator(\n",
    "      labelCol=\"stay_days_index\", predictionCol=\"prediction\", metricName=\"falsePositiveRateByLabel\")\n",
    "  falsePositiveRateByLabel = evaluator6.evaluate(predictions)\n",
    "\n",
    "  evaluator7 = MulticlassClassificationEvaluator(\n",
    "      labelCol=\"stay_days_index\", predictionCol=\"prediction\", metricName=\"precisionByLabel\")\n",
    "  precisionByLabel = evaluator7.evaluate(predictions)\n",
    "\n",
    "  evaluator8 = MulticlassClassificationEvaluator(\n",
    "      labelCol=\"stay_days_index\", predictionCol=\"prediction\", metricName=\"weightedFMeasure\")\n",
    "  weightedFMeasure = evaluator8.evaluate(predictions)\n",
    "\n",
    "  evaluator9 = MulticlassClassificationEvaluator(\n",
    "      labelCol=\"stay_days_index\", predictionCol=\"prediction\", metricName=\"fMeasureByLabel\")\n",
    "  fMeasureByLabel = evaluator9.evaluate(predictions)\n",
    "\n",
    "  evaluator10 = MulticlassClassificationEvaluator(\n",
    "      labelCol=\"stay_days_index\", predictionCol=\"prediction\", metricName=\"recallByLabel\")\n",
    "  recallByLabel = evaluator10.evaluate(predictions)\n",
    "\n",
    "  evaluator11 = MulticlassClassificationEvaluator(\n",
    "      labelCol=\"stay_days_index\", predictionCol=\"prediction\", metricName=\"logLoss\")\n",
    "  logLoss = evaluator11.evaluate(predictions)\n",
    "\n",
    "  evaluator12 = MulticlassClassificationEvaluator(\n",
    "      labelCol=\"stay_days_index\", predictionCol=\"prediction\", metricName=\"hammingLoss\")\n",
    "  hammingLoss = evaluator12.evaluate(predictions)\n",
    "\n",
    "\n",
    "  evaluator13 = MulticlassClassificationEvaluator(\n",
    "      labelCol=\"stay_days_index\", predictionCol=\"prediction\", metricName=\"f1\")\n",
    "  f1 = evaluator13.evaluate(predictions)\n",
    "\n",
    "\n",
    "  print(f'Model name: {modelname}')\n",
    "  print(\"\\tAccuracy = %g \" %(accuracy))\n",
    "  print(\"\\tF1 = %g \" %(f1))\n",
    "  print(\"\\tTest Error = %g \" %(1.0 - accuracy))\n",
    "  print(\"\\tTrue Positive Rate By Label = %g \" %(truePositiveRateByLabel)) \n",
    "  print(\"\\tFalse Positive Rate By Label = %g \" %(falsePositiveRateByLabel)) \n",
    "  print(\"\\tPrecision By Label = %g \" %(precisionByLabel))\n",
    "  print(\"\\tRecall By Label = %g \" %(recallByLabel))\n",
    "  print(\"\\tFMeasure By Label = %g \" %(fMeasureByLabel))\n",
    "  print(\"\\tWeighted Recall = %g \" %(weightedRecall))\n",
    "  print(\"\\tWeighted Precision = %g \" %(weightedPrecision))\n",
    "  print(\"\\tWeighted True Positive Rate = %g \" %(weightedTruePositiveRate))  \n",
    "  print(\"\\tWeighted FMeasure = %g \" %(weightedFMeasure))\n",
    "  print(\"\\tLog Loss = %g \" %(logLoss))\n",
    "  print(\"\\tHamming Loss = %g \" %(hammingLoss))\n",
    "\n"
   ]
  },
  {
   "cell_type": "code",
   "execution_count": 25,
   "metadata": {
    "colab": {
     "base_uri": "https://localhost:8080/"
    },
    "id": "WaX-BRBPjAHD",
    "outputId": "55e509f5-d3f1-4925-f783-ee56e8f366de"
   },
   "outputs": [
    {
     "name": "stderr",
     "output_type": "stream",
     "text": [
      "[Stage 233:>                                                        (0 + 1) / 1]\r"
     ]
    },
    {
     "name": "stdout",
     "output_type": "stream",
     "text": [
      "Model name: DecisionTreeClassifier\n",
      "\tAccuracy = 0.391596 \n",
      "\tF1 = 0.350377 \n",
      "\tTest Error = 0.608404 \n",
      "\tTrue Positive Rate By Label = 0.685592 \n",
      "\tFalse Positive Rate By Label = 0.402116 \n",
      "\tPrecision By Label = 0.394414 \n",
      "\tRecall By Label = 0.685592 \n",
      "\tFMeasure By Label = 0.500751 \n",
      "\tWeighted Recall = 0.391596 \n",
      "\tWeighted Precision = 0.359063 \n",
      "\tWeighted True Positive Rate = 0.391596 \n",
      "\tWeighted FMeasure = 0.350377 \n",
      "\tLog Loss = 1.78592 \n",
      "\tHamming Loss = 0.608404 \n"
     ]
    },
    {
     "name": "stderr",
     "output_type": "stream",
     "text": [
      "\r",
      "                                                                                \r"
     ]
    }
   ],
   "source": [
    "# MulticlassClassification Evaluation for DecisionTree Classifier\n",
    "customMulticlassClassificationEvaluator(\"DecisionTreeClassifier\", predictions_df)"
   ]
  },
  {
   "cell_type": "code",
   "execution_count": 26,
   "metadata": {
    "id": "1NNIUAe9ToBz"
   },
   "outputs": [
    {
     "name": "stderr",
     "output_type": "stream",
     "text": [
      "                                                                                \r"
     ]
    }
   ],
   "source": [
    "df1= predictions_df.toPandas()"
   ]
  },
  {
   "cell_type": "code",
   "execution_count": 27,
   "metadata": {
    "id": "_p9m7lJeEdMt"
   },
   "outputs": [],
   "source": [
    "selected_list = [\"11-20\",\"21-30\",\"41-50\",\"61-70\", \"More than 100 Days\"]\n",
    "\n",
    "def bivariate_analysis(dataframe, dependent_variable, independent_variable, selected_list):\n",
    "   g = sns.catplot(dependent_variable, col=independent_variable, col_wrap=3,\\\n",
    "   data=dataframe,kind=\"count\", height=5, aspect=1, order=selected_list\n",
    "   )"
   ]
  },
  {
   "cell_type": "code",
   "execution_count": 28,
   "metadata": {
    "colab": {
     "base_uri": "https://localhost:8080/",
     "height": 423
    },
    "id": "LIyPkqM-JW4a",
    "outputId": "15d830dc-f05a-4544-9110-f3d6fb9f1014"
   },
   "outputs": [
    {
     "name": "stderr",
     "output_type": "stream",
     "text": [
      "/Users/jiezhou/opt/anaconda3/lib/python3.9/site-packages/seaborn/_decorators.py:36: FutureWarning: Pass the following variable as a keyword arg: x. From version 0.12, the only valid positional argument will be `data`, and passing other arguments without an explicit keyword will result in an error or misinterpretation.\n",
      "  warnings.warn(\n"
     ]
    },
    {
     "data": {
      "image/png": "[encoded data removed]",
      "text/plain": [
       "<Figure size 1080x360 with 3 Axes>"
      ]
     },
     "metadata": {
      "needs_background": "light"
     },
     "output_type": "display_data"
    }
   ],
   "source": [
    "bivariate_analysis(df1, \"stay_days\", \"illness_severity\", selected_list)"
   ]
  },
  {
   "cell_type": "code",
   "execution_count": 29,
   "metadata": {
    "colab": {
     "base_uri": "https://localhost:8080/",
     "height": 423
    },
    "id": "rjjK-GE7kpkn",
    "outputId": "c23349ef-0161-4f02-dcd0-ebac126d7eae"
   },
   "outputs": [
    {
     "name": "stderr",
     "output_type": "stream",
     "text": [
      "/Users/jiezhou/opt/anaconda3/lib/python3.9/site-packages/seaborn/_decorators.py:36: FutureWarning: Pass the following variable as a keyword arg: x. From version 0.12, the only valid positional argument will be `data`, and passing other arguments without an explicit keyword will result in an error or misinterpretation.\n",
      "  warnings.warn(\n"
     ]
    },
    {
     "data": {
      "image/png": "[encoded data removed]",
      "text/plain": [
       "<Figure size 1080x360 with 3 Axes>"
      ]
     },
     "metadata": {
      "needs_background": "light"
     },
     "output_type": "display_data"
    }
   ],
   "source": [
    "bivariate_analysis(df1, \"predictedLabel\", \"illness_severity\", selected_list)"
   ]
  }
 ],
 "metadata": {
  "colab": {
   "authorship_tag": "ABX9TyPCGuFihF0PHzSQZL89mRGu",
   "collapsed_sections": [],
   "include_colab_link": true,
   "mount_file_id": "1wAq-QKbVWDxrZSokGnSCuNC1xs3rk_0S",
   "name": "COVID HOSPITAL TREATMENT: Predicting Patient's Length of Stay(LOS) using Kaggle Data",
   "provenance": []
  },
  "kernelspec": {
   "display_name": "Python 3 (ipykernel)",
   "language": "python",
   "name": "python3"
  },
  "language_info": {
   "codemirror_mode": {
    "name": "ipython",
    "version": 3
   },
   "file_extension": ".py",
   "mimetype": "text/x-python",
   "name": "python",
   "nbconvert_exporter": "python",
   "pygments_lexer": "ipython3",
   "version": "3.9.7"
  }
 },
 "nbformat": 4,
 "nbformat_minor": 1
}
