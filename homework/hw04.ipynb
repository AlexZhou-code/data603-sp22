{
 "cells": [
  {
   "cell_type": "code",
   "execution_count": 1,
   "id": "2752860c",
   "metadata": {},
   "outputs": [
    {
     "name": "stdout",
     "output_type": "stream",
     "text": [
      "WARNING: An illegal reflective access operation has occurred\n",
      "WARNING: Illegal reflective access by org.apache.spark.unsafe.Platform (file:/usr/local/spark-3.2.1-bin-hadoop3.2/jars/spark-unsafe_2.12-3.2.1.jar) to constructor java.nio.DirectByteBuffer(long,int)\n",
      "WARNING: Please consider reporting this to the maintainers of org.apache.spark.unsafe.Platform\n",
      "WARNING: Use --illegal-access=warn to enable warnings of further illegal reflective access operations\n",
      "WARNING: All illegal access operations will be denied in a future release\n",
      "Welcome to\n",
      "      ____              __\n",
      "     / __/__  ___ _____/ /__\n",
      "    _\\ \\/ _ \\/ _ `/ __/  '_/\n",
      "   /___/ .__/\\_,_/_/ /_/\\_\\   version 3.2.1\n",
      "      /_/\n",
      "                        \n",
      "Using Scala version 2.12.15, OpenJDK 64-Bit Server VM, 11.0.13\n",
      "Branch HEAD\n",
      "Compiled by user hgao on 2022-01-20T19:26:14Z\n",
      "Revision 4f25b3f71238a00508a356591553f2dfa89f8290\n",
      "Url https://github.com/apache/spark\n",
      "Type --help for more information.\n"
     ]
    }
   ],
   "source": [
    "!pyspark --version"
   ]
  },
  {
   "cell_type": "markdown",
   "id": "55527cd4-091f-485a-9669-68da525250b3",
   "metadata": {},
   "source": [
    "environment check ✅"
   ]
  },
  {
   "cell_type": "code",
   "execution_count": 2,
   "id": "08c7ff4f",
   "metadata": {},
   "outputs": [],
   "source": [
    "from pyspark.sql import SparkSession\n",
    "spark = (SparkSession.builder\n",
    "    .master(\"local\")\n",
    "    .appName(\"hw4\")\n",
    "    .getOrCreate())\n"
   ]
  },
  {
   "cell_type": "code",
   "execution_count": 3,
   "id": "95f40e3f",
   "metadata": {},
   "outputs": [
    {
     "data": {
      "text/html": [
       "\n",
       "            <div>\n",
       "                <p><b>SparkSession - in-memory</b></p>\n",
       "                \n",
       "        <div>\n",
       "            <p><b>SparkContext</b></p>\n",
       "\n",
       "            <p><a href=\"http://80651ae3095e:4040\">Spark UI</a></p>\n",
       "\n",
       "            <dl>\n",
       "              <dt>Version</dt>\n",
       "                <dd><code>v3.2.1</code></dd>\n",
       "              <dt>Master</dt>\n",
       "                <dd><code>local</code></dd>\n",
       "              <dt>AppName</dt>\n",
       "                <dd><code>hw4</code></dd>\n",
       "            </dl>\n",
       "        </div>\n",
       "        \n",
       "            </div>\n",
       "        "
      ],
      "text/plain": [
       "<pyspark.sql.session.SparkSession at 0x7f29c15f0340>"
      ]
     },
     "execution_count": 3,
     "metadata": {},
     "output_type": "execute_result"
    }
   ],
   "source": [
    "spark"
   ]
  },
  {
   "cell_type": "markdown",
   "id": "3fd23ac8-68bb-4c9f-a9cb-94d46dde374f",
   "metadata": {},
   "source": [
    "Directions\n",
    "0. Download the file from the above site or that's attached here.  Save it in the same directory as your notebook using the default name Part1_crime_data.csv\n",
    "1. Specify the schema for the crime data set. (https://sparkbyexamples.com/pyspark/pyspark-structtype-and-structfield/)\n",
    "2. Read the file using the schema definition\n",
    "3. Cache the DataFrame (https://sparkbyexamples.com/spark/spark-dataframe-cache-and-persist-explained/)\n",
    "4. Show the count of the rows\n",
    "5. Print the schema\n",
    "6. Display first 5 rows\n",
    "\n"
   ]
  },
  {
   "cell_type": "code",
   "execution_count": 4,
   "id": "68d9b0e2-3fec-47e5-80f9-b5b6479ca9d3",
   "metadata": {},
   "outputs": [],
   "source": [
    "from pyspark.sql.types import *"
   ]
  },
  {
   "cell_type": "code",
   "execution_count": 5,
   "id": "4ac26deb-f7c8-40c2-b43f-d23ae3b4a292",
   "metadata": {},
   "outputs": [],
   "source": [
    "schema = [StructField(\"X\", DoubleType(), True),\n",
    " StructField(\"Y\", DoubleType(), True),\n",
    " StructField(\"RowID\", IntegerType(), True),\n",
    " StructField(\"CrimeDateTime\", TimestampType(), True),\n",
    " StructField(\"CrimeCode\", StringType(), True),\n",
    " StructField(\"Location\", StringType(), True),\n",
    " StructField(\"Description\", StringType(), True),\n",
    " StructField(\"Inside_Outside\", StringType(), True),\n",
    " StructField(\"Weapon\", StringType(), True),\n",
    " StructField(\"Post\", IntegerType(), True),\n",
    " StructField(\"District\", StringType(), True),\n",
    " StructField(\"Neighborhood\", StringType(), True),\n",
    " StructField(\"Latitude\", DoubleType(), True),\n",
    " StructField(\"Longitude\", DoubleType(), True),\n",
    " StructField(\"GeoLocation\", StringType(), True),\n",
    " StructField(\"Premise\", StringType(), True),\n",
    " StructField(\"VRIName\", StringType(), True),\n",
    " StructField(\"Total_Incidents\", IntegerType(), True)]"
   ]
  },
  {
   "cell_type": "code",
   "execution_count": 6,
   "id": "d82cb41a-0b1f-49fe-bcaa-dcd5c49b7537",
   "metadata": {},
   "outputs": [],
   "source": [
    "df1 = spark.read.csv('Part1_Crime_data.csv', header=True, schema=StructType(schema), timestampFormat='yyyy/MM/dd HH:mm:ssX')"
   ]
  },
  {
   "cell_type": "code",
   "execution_count": 7,
   "id": "cd974685-0855-4656-b07f-33337621fb6c",
   "metadata": {},
   "outputs": [
    {
     "data": {
      "text/plain": [
       "DataFrame[X: double, Y: double, RowID: int, CrimeDateTime: timestamp, CrimeCode: string, Location: string, Description: string, Inside_Outside: string, Weapon: string, Post: int, District: string, Neighborhood: string, Latitude: double, Longitude: double, GeoLocation: string, Premise: string, VRIName: string, Total_Incidents: int]"
      ]
     },
     "execution_count": 7,
     "metadata": {},
     "output_type": "execute_result"
    }
   ],
   "source": [
    "df1.persist()"
   ]
  },
  {
   "cell_type": "code",
   "execution_count": 8,
   "id": "2c439310-2fcb-406e-bbdf-dcdd69a8465b",
   "metadata": {},
   "outputs": [
    {
     "data": {
      "text/plain": [
       "513158"
      ]
     },
     "execution_count": 8,
     "metadata": {},
     "output_type": "execute_result"
    }
   ],
   "source": [
    "df1.count()"
   ]
  },
  {
   "cell_type": "code",
   "execution_count": 9,
   "id": "67b12c00-d865-4301-a71e-ae04fcda58be",
   "metadata": {},
   "outputs": [
    {
     "name": "stdout",
     "output_type": "stream",
     "text": [
      "root\n",
      " |-- X: double (nullable = true)\n",
      " |-- Y: double (nullable = true)\n",
      " |-- RowID: integer (nullable = true)\n",
      " |-- CrimeDateTime: timestamp (nullable = true)\n",
      " |-- CrimeCode: string (nullable = true)\n",
      " |-- Location: string (nullable = true)\n",
      " |-- Description: string (nullable = true)\n",
      " |-- Inside_Outside: string (nullable = true)\n",
      " |-- Weapon: string (nullable = true)\n",
      " |-- Post: integer (nullable = true)\n",
      " |-- District: string (nullable = true)\n",
      " |-- Neighborhood: string (nullable = true)\n",
      " |-- Latitude: double (nullable = true)\n",
      " |-- Longitude: double (nullable = true)\n",
      " |-- GeoLocation: string (nullable = true)\n",
      " |-- Premise: string (nullable = true)\n",
      " |-- VRIName: string (nullable = true)\n",
      " |-- Total_Incidents: integer (nullable = true)\n",
      "\n"
     ]
    }
   ],
   "source": [
    "df1.printSchema()"
   ]
  },
  {
   "cell_type": "code",
   "execution_count": 10,
   "id": "5ff4d51a-2417-429c-a0c5-9633ae0462fd",
   "metadata": {},
   "outputs": [
    {
     "name": "stdout",
     "output_type": "stream",
     "text": [
      "+----------------+----------------+-----+-------------------+---------+-------------------+--------------+--------------+-------+----+---------+----------------+--------+---------+------------------+---------------+------------+---------------+\n",
      "|X               |Y               |RowID|CrimeDateTime      |CrimeCode|Location           |Description   |Inside_Outside|Weapon |Post|District |Neighborhood    |Latitude|Longitude|GeoLocation       |Premise        |VRIName     |Total_Incidents|\n",
      "+----------------+----------------+-----+-------------------+---------+-------------------+--------------+--------------+-------+----+---------+----------------+--------+---------+------------------+---------------+------------+---------------+\n",
      "|1420074.13302107|594160.602354662|1    |2022-02-26 04:00:00|4E       |200 W MONUMENT ST  |COMMON ASSAULT|null          |NA     |124 |CENTRAL  |MOUNT VERNON    |39.2975 |-76.6193 |(39.2975,-76.6193)|null           |null        |1              |\n",
      "|1411374.22509631|589791.383964529|2    |2022-02-26 01:26:30|9S       |2100 FREDERICK AVE |SHOOTING      |Outside       |FIREARM|835 |SOUTHWEST|CARROLLTON RIDGE|39.2856 |-76.6501 |(39.2856,-76.6501)|COMMON BUSINESS|Tri-District|1              |\n",
      "|1411401.16887136|582761.775193539|3    |2022-02-26 10:22:00|4E       |2000 GRINNALDS AVE |COMMON ASSAULT|null          |NA     |831 |SOUTHWEST|MORRELL PARK    |39.2663 |-76.6501 |(39.2663,-76.6501)|null           |null        |1              |\n",
      "|1422663.14365552|597595.359444412|4    |2022-02-26 01:11:00|7A       |400 E OLIVER ST    |AUTO THEFT    |null          |NA     |313 |EASTERN  |GREENMOUNT WEST |39.3069 |-76.6101 |(39.3069,-76.6101)|null           |null        |1              |\n",
      "|1440496.49709374|607767.144994879|5    |2022-02-26 12:30:00|4B       |5300 PLAINFIELD AVE|AGG. ASSAULT  |null          |KNIFE  |444 |NORTHEAST|FRANKFORD       |39.3346 |-76.5469 |(39.3346,-76.5469)|null           |null        |1              |\n",
      "+----------------+----------------+-----+-------------------+---------+-------------------+--------------+--------------+-------+----+---------+----------------+--------+---------+------------------+---------------+------------+---------------+\n",
      "only showing top 5 rows\n",
      "\n"
     ]
    }
   ],
   "source": [
    "df1.show(5,truncate=False)"
   ]
  },
  {
   "cell_type": "markdown",
   "id": "fa6e633b-128e-4c2d-8ef1-364b5725e455",
   "metadata": {},
   "source": [
    "Answer following questions using PySpark\n",
    "1. What are distinct crime codes?\n",
    "2. Count the number of crimes by the crime codes and order by the resulting counts in descending order\n",
    "3. Which neighborhood had most crimes?\n",
    "4. Which month of the year had most crimes?\n",
    "5. What weapons were used? \n",
    "6. Which weapon was used the most? "
   ]
  },
  {
   "cell_type": "code",
   "execution_count": 11,
   "id": "a9787011-0871-4cd4-b9b1-1f6a7986a1a3",
   "metadata": {},
   "outputs": [
    {
     "data": {
      "text/plain": [
       "[Row(CrimeCode='1A'),\n",
       " Row(CrimeCode='1K'),\n",
       " Row(CrimeCode='1O'),\n",
       " Row(CrimeCode='2A'),\n",
       " Row(CrimeCode='2B'),\n",
       " Row(CrimeCode='3AF'),\n",
       " Row(CrimeCode='3AJF'),\n",
       " Row(CrimeCode='3AJK'),\n",
       " Row(CrimeCode='3AJO'),\n",
       " Row(CrimeCode='3AK'),\n",
       " Row(CrimeCode='3AO'),\n",
       " Row(CrimeCode='3B'),\n",
       " Row(CrimeCode='3BJ'),\n",
       " Row(CrimeCode='3C'),\n",
       " Row(CrimeCode='3CF'),\n",
       " Row(CrimeCode='3CK'),\n",
       " Row(CrimeCode='3CO'),\n",
       " Row(CrimeCode='3D'),\n",
       " Row(CrimeCode='3E'),\n",
       " Row(CrimeCode='3EF'),\n",
       " Row(CrimeCode='3EK'),\n",
       " Row(CrimeCode='3EO'),\n",
       " Row(CrimeCode='3F'),\n",
       " Row(CrimeCode='3GF'),\n",
       " Row(CrimeCode='3GK'),\n",
       " Row(CrimeCode='3GO'),\n",
       " Row(CrimeCode='3H'),\n",
       " Row(CrimeCode='3J'),\n",
       " Row(CrimeCode='3JF'),\n",
       " Row(CrimeCode='3JK'),\n",
       " Row(CrimeCode='3JO'),\n",
       " Row(CrimeCode='3K'),\n",
       " Row(CrimeCode='3L'),\n",
       " Row(CrimeCode='3LF'),\n",
       " Row(CrimeCode='3LK'),\n",
       " Row(CrimeCode='3LO'),\n",
       " Row(CrimeCode='3M'),\n",
       " Row(CrimeCode='3N'),\n",
       " Row(CrimeCode='3NF'),\n",
       " Row(CrimeCode='3NK'),\n",
       " Row(CrimeCode='3NO'),\n",
       " Row(CrimeCode='3P'),\n",
       " Row(CrimeCode='4A'),\n",
       " Row(CrimeCode='4B'),\n",
       " Row(CrimeCode='4C'),\n",
       " Row(CrimeCode='4D'),\n",
       " Row(CrimeCode='4E'),\n",
       " Row(CrimeCode='5A'),\n",
       " Row(CrimeCode='5B'),\n",
       " Row(CrimeCode='5C'),\n",
       " Row(CrimeCode='5D'),\n",
       " Row(CrimeCode='5E'),\n",
       " Row(CrimeCode='5F'),\n",
       " Row(CrimeCode='5G'),\n",
       " Row(CrimeCode='6A'),\n",
       " Row(CrimeCode='6B'),\n",
       " Row(CrimeCode='6C'),\n",
       " Row(CrimeCode='6D'),\n",
       " Row(CrimeCode='6E'),\n",
       " Row(CrimeCode='6F'),\n",
       " Row(CrimeCode='6G'),\n",
       " Row(CrimeCode='6H'),\n",
       " Row(CrimeCode='6J'),\n",
       " Row(CrimeCode='6K'),\n",
       " Row(CrimeCode='6L'),\n",
       " Row(CrimeCode='7A'),\n",
       " Row(CrimeCode='7B'),\n",
       " Row(CrimeCode='7C'),\n",
       " Row(CrimeCode='8AO'),\n",
       " Row(CrimeCode='8AV'),\n",
       " Row(CrimeCode='8BO'),\n",
       " Row(CrimeCode='8BV'),\n",
       " Row(CrimeCode='8CO'),\n",
       " Row(CrimeCode='8CV'),\n",
       " Row(CrimeCode='8DO'),\n",
       " Row(CrimeCode='8EO'),\n",
       " Row(CrimeCode='8EV'),\n",
       " Row(CrimeCode='8FO'),\n",
       " Row(CrimeCode='8FV'),\n",
       " Row(CrimeCode='8GO'),\n",
       " Row(CrimeCode='8GV'),\n",
       " Row(CrimeCode='8H'),\n",
       " Row(CrimeCode='8I'),\n",
       " Row(CrimeCode='8J'),\n",
       " Row(CrimeCode='9S')]"
      ]
     },
     "execution_count": 11,
     "metadata": {},
     "output_type": "execute_result"
    }
   ],
   "source": [
    "df1.select('CrimeCode').distinct().sort('CrimeCode').collect()"
   ]
  },
  {
   "cell_type": "code",
   "execution_count": 12,
   "id": "439b8244-8c3e-476a-8735-c721f4aec8a1",
   "metadata": {},
   "outputs": [
    {
     "data": {
      "text/plain": [
       "[Row(CrimeCode='4E', crime_count=91650),\n",
       " Row(CrimeCode='6D', crime_count=68427),\n",
       " Row(CrimeCode='5A', crime_count=43928),\n",
       " Row(CrimeCode='7A', crime_count=40274),\n",
       " Row(CrimeCode='6J', crime_count=27636),\n",
       " Row(CrimeCode='6G', crime_count=26858),\n",
       " Row(CrimeCode='6E', crime_count=24300),\n",
       " Row(CrimeCode='6C', crime_count=23227),\n",
       " Row(CrimeCode='4C', crime_count=22438),\n",
       " Row(CrimeCode='5D', crime_count=14971),\n",
       " Row(CrimeCode='3AF', crime_count=14739),\n",
       " Row(CrimeCode='4B', crime_count=14460),\n",
       " Row(CrimeCode='4A', crime_count=13226),\n",
       " Row(CrimeCode='3B', crime_count=10737),\n",
       " Row(CrimeCode='4D', crime_count=7232),\n",
       " Row(CrimeCode='5B', crime_count=6475),\n",
       " Row(CrimeCode='9S', crime_count=5443),\n",
       " Row(CrimeCode='6F', crime_count=5081),\n",
       " Row(CrimeCode='5C', crime_count=4917),\n",
       " Row(CrimeCode='6B', crime_count=4106),\n",
       " Row(CrimeCode='3CF', crime_count=3771),\n",
       " Row(CrimeCode='2A', crime_count=3168),\n",
       " Row(CrimeCode='3AJF', crime_count=3018),\n",
       " Row(CrimeCode='3AK', crime_count=2982),\n",
       " Row(CrimeCode='3K', crime_count=2833),\n",
       " Row(CrimeCode='7C', crime_count=2725),\n",
       " Row(CrimeCode='1A', crime_count=2624),\n",
       " Row(CrimeCode='3AO', crime_count=2473),\n",
       " Row(CrimeCode='5F', crime_count=2182),\n",
       " Row(CrimeCode='3JF', crime_count=1815),\n",
       " Row(CrimeCode='3D', crime_count=1432),\n",
       " Row(CrimeCode='5E', crime_count=1419),\n",
       " Row(CrimeCode='6L', crime_count=1205),\n",
       " Row(CrimeCode='8H', crime_count=1051),\n",
       " Row(CrimeCode='3P', crime_count=873),\n",
       " Row(CrimeCode='3GF', crime_count=789),\n",
       " Row(CrimeCode='6A', crime_count=781),\n",
       " Row(CrimeCode='3BJ', crime_count=754),\n",
       " Row(CrimeCode='3CK', crime_count=591),\n",
       " Row(CrimeCode='3CO', crime_count=516),\n",
       " Row(CrimeCode='3NF', crime_count=441),\n",
       " Row(CrimeCode='3JK', crime_count=423),\n",
       " Row(CrimeCode='8AO', crime_count=413),\n",
       " Row(CrimeCode='3JO', crime_count=413),\n",
       " Row(CrimeCode='2B', crime_count=355),\n",
       " Row(CrimeCode='7B', crime_count=287),\n",
       " Row(CrimeCode='8J', crime_count=279),\n",
       " Row(CrimeCode='3H', crime_count=261),\n",
       " Row(CrimeCode='1K', crime_count=230),\n",
       " Row(CrimeCode='3AJO', crime_count=224),\n",
       " Row(CrimeCode='6H', crime_count=222),\n",
       " Row(CrimeCode='3J', crime_count=210),\n",
       " Row(CrimeCode='1O', crime_count=191),\n",
       " Row(CrimeCode='3EF', crime_count=176),\n",
       " Row(CrimeCode='3N', crime_count=176),\n",
       " Row(CrimeCode='3AJK', crime_count=172),\n",
       " Row(CrimeCode='8FO', crime_count=154),\n",
       " Row(CrimeCode='3GO', crime_count=131),\n",
       " Row(CrimeCode='3M', crime_count=121),\n",
       " Row(CrimeCode='8AV', crime_count=121),\n",
       " Row(CrimeCode='3F', crime_count=120),\n",
       " Row(CrimeCode='3NK', crime_count=120),\n",
       " Row(CrimeCode='3GK', crime_count=116),\n",
       " Row(CrimeCode='8BO', crime_count=104),\n",
       " Row(CrimeCode='3LF', crime_count=97),\n",
       " Row(CrimeCode='3NO', crime_count=83),\n",
       " Row(CrimeCode='8EO', crime_count=77),\n",
       " Row(CrimeCode='8I', crime_count=50),\n",
       " Row(CrimeCode='3EO', crime_count=45),\n",
       " Row(CrimeCode='3EK', crime_count=41),\n",
       " Row(CrimeCode='3LO', crime_count=35),\n",
       " Row(CrimeCode='8BV', crime_count=26),\n",
       " Row(CrimeCode='8GO', crime_count=24),\n",
       " Row(CrimeCode='5G', crime_count=21),\n",
       " Row(CrimeCode='8CO', crime_count=13),\n",
       " Row(CrimeCode='8EV', crime_count=10),\n",
       " Row(CrimeCode='8FV', crime_count=9),\n",
       " Row(CrimeCode='6K', crime_count=7),\n",
       " Row(CrimeCode='8GV', crime_count=7),\n",
       " Row(CrimeCode='8CV', crime_count=7),\n",
       " Row(CrimeCode='3E', crime_count=6),\n",
       " Row(CrimeCode='3LK', crime_count=5),\n",
       " Row(CrimeCode='3C', crime_count=4),\n",
       " Row(CrimeCode='8DO', crime_count=3),\n",
       " Row(CrimeCode='3L', crime_count=1)]"
      ]
     },
     "execution_count": 12,
     "metadata": {},
     "output_type": "execute_result"
    }
   ],
   "source": [
    "from pyspark.sql.functions import *\n",
    "df1.select('CrimeCode').groupBy('CrimeCode').agg(count('CrimeCode').alias('crime_count')).sort('crime_count', ascending=False).collect()"
   ]
  },
  {
   "cell_type": "code",
   "execution_count": 13,
   "id": "04b51395-61c9-4aa2-a956-a5533594a8a5",
   "metadata": {},
   "outputs": [
    {
     "data": {
      "text/plain": [
       "[Row(Neighborhood='DOWNTOWN', count=17799)]"
      ]
     },
     "execution_count": 13,
     "metadata": {},
     "output_type": "execute_result"
    }
   ],
   "source": [
    "df1.select('Neighborhood').groupBy('Neighborhood').count().sort('count', ascending=False).take(1)"
   ]
  },
  {
   "cell_type": "code",
   "execution_count": 14,
   "id": "512aa554-3f81-4e37-b89b-1d5ce241b3ce",
   "metadata": {},
   "outputs": [
    {
     "data": {
      "text/plain": [
       "[Row(month(CrimeDateTime)=8, count=46327),\n",
       " Row(month(CrimeDateTime)=10, count=46205),\n",
       " Row(month(CrimeDateTime)=7, count=45979),\n",
       " Row(month(CrimeDateTime)=5, count=45035),\n",
       " Row(month(CrimeDateTime)=6, count=44986),\n",
       " Row(month(CrimeDateTime)=9, count=44819),\n",
       " Row(month(CrimeDateTime)=1, count=42226),\n",
       " Row(month(CrimeDateTime)=11, count=42033),\n",
       " Row(month(CrimeDateTime)=12, count=41594),\n",
       " Row(month(CrimeDateTime)=4, count=40012),\n",
       " Row(month(CrimeDateTime)=3, count=38648),\n",
       " Row(month(CrimeDateTime)=2, count=35294)]"
      ]
     },
     "execution_count": 14,
     "metadata": {},
     "output_type": "execute_result"
    }
   ],
   "source": [
    "df1.groupBy(month(df1.CrimeDateTime)).count().sort('count', ascending=False).select('month(CrimeDateTime)', 'count').collect()"
   ]
  },
  {
   "cell_type": "code",
   "execution_count": 15,
   "id": "c9ef04d2-dbb4-4a85-afec-665aaad55f5c",
   "metadata": {},
   "outputs": [
    {
     "name": "stdout",
     "output_type": "stream",
     "text": [
      "+-------+\n",
      "| Weapon|\n",
      "+-------+\n",
      "|     NA|\n",
      "|   null|\n",
      "|  HANDS|\n",
      "|  KNIFE|\n",
      "|  OTHER|\n",
      "|   FIRE|\n",
      "|FIREARM|\n",
      "+-------+\n",
      "\n"
     ]
    }
   ],
   "source": [
    "df1.select('Weapon').distinct().show()"
   ]
  },
  {
   "cell_type": "code",
   "execution_count": 16,
   "id": "1beee803-c6a6-4408-9b09-a31b204953ee",
   "metadata": {},
   "outputs": [
    {
     "name": "stdout",
     "output_type": "stream",
     "text": [
      "+-------+-----+\n",
      "| Weapon|count|\n",
      "+-------+-----+\n",
      "|FIREARM|46139|\n",
      "|  KNIFE|19140|\n",
      "|  HANDS| 7232|\n",
      "+-------+-----+\n",
      "only showing top 3 rows\n",
      "\n"
     ]
    }
   ],
   "source": [
    "invalid=['NA', 'OTHER']\n",
    "df1.filter(~df1.Weapon.isin(invalid)).select('Weapon').groupBy('Weapon').count().sort('count', ascending=False).show(3)"
   ]
  },
  {
   "cell_type": "code",
   "execution_count": null,
   "id": "679e49cc-d040-4eab-b313-767c2e311d78",
   "metadata": {},
   "outputs": [],
   "source": []
  }
 ],
 "metadata": {
  "kernelspec": {
   "display_name": "Python 3 (ipykernel)",
   "language": "python",
   "name": "python3"
  },
  "language_info": {
   "codemirror_mode": {
    "name": "ipython",
    "version": 3
   },
   "file_extension": ".py",
   "mimetype": "text/x-python",
   "name": "python",
   "nbconvert_exporter": "python",
   "pygments_lexer": "ipython3",
   "version": "3.9.10"
  }
 },
 "nbformat": 4,
 "nbformat_minor": 5
}
